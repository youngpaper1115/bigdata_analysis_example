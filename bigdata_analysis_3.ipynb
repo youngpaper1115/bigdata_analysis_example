{
  "nbformat": 4,
  "nbformat_minor": 0,
  "metadata": {
    "colab": {
      "name": "bigdata_analysis_3.ipynb",
      "provenance": [],
      "collapsed_sections": []
    },
    "kernelspec": {
      "name": "python3",
      "display_name": "Python 3"
    },
    "language_info": {
      "name": "python"
    }
  },
  "cells": [
    {
      "cell_type": "markdown",
      "source": [
        "## 빅분기 3회 실기 기출"
      ],
      "metadata": {
        "id": "sDiC6FZZpgoY"
      }
    },
    {
      "cell_type": "markdown",
      "source": [
        "### 1-1\n",
        "연관성 분석에서 규칙이 우연에 의해 발생한 것인지 판단하기 위해 연관성의 정도를 측정하는 척도는?"
      ],
      "metadata": {
        "id": "v9339Cyrqo7I"
      }
    },
    {
      "cell_type": "code",
      "source": [
        "향상도"
      ],
      "metadata": {
        "id": "ebJEYoReqxWi"
      },
      "execution_count": null,
      "outputs": []
    },
    {
      "cell_type": "markdown",
      "source": [
        "### 1-2.\n",
        "분포를 모를 때, 데이터를 0~1 사이로 변환하는 것은?"
      ],
      "metadata": {
        "id": "sF_ulrihqy2K"
      }
    },
    {
      "cell_type": "code",
      "source": [
        "Min-Max Scaler"
      ],
      "metadata": {
        "id": "TG8oyKMjqyjT"
      },
      "execution_count": null,
      "outputs": []
    },
    {
      "cell_type": "markdown",
      "source": [
        "### 1-3.\n",
        "순서형 말고 예를 들어 국가별 코드 값을 가진 이런한 특징을 가진 것을 (    ) 데이터 라고 한다 \n"
      ],
      "metadata": {
        "id": "Oewel8PYq842"
      }
    },
    {
      "cell_type": "code",
      "source": [
        "명목형"
      ],
      "metadata": {
        "id": "5XYZIKOXrKV2"
      },
      "execution_count": null,
      "outputs": []
    },
    {
      "cell_type": "markdown",
      "source": [
        "### 1-4.\n",
        "마지막 은닉층 두개(0.2, 0.3), 가중치 두개(0.3,-0.1), 바이어스bias(=상수항의 가중치) 0.1 들의 값은 이러하다. 마지막 출력에 입력되는 선형합값은?"
      ],
      "metadata": {
        "id": "BBSKl41HrSkA"
      }
    },
    {
      "cell_type": "code",
      "source": [
        "0.2*0.3 + 0.3*(-0.1) +0.1 "
      ],
      "metadata": {
        "colab": {
          "base_uri": "https://localhost:8080/"
        },
        "id": "x0PKioY-rWns",
        "outputId": "a74e9d76-056b-4e5c-dce9-2d0621ec79ef"
      },
      "execution_count": null,
      "outputs": [
        {
          "output_type": "execute_result",
          "data": {
            "text/plain": [
              "0.13"
            ]
          },
          "metadata": {},
          "execution_count": 1
        }
      ]
    },
    {
      "cell_type": "markdown",
      "source": [
        "### 1-5\n",
        "회귀, 분류 둘다 사용가능하며 지도학습 알고리즘으로 구분하는 경계와 데이터와 멀수록(최대일경우) 가장 좋은 모델로 선정하는 알고리즘은 무엇인가?"
      ],
      "metadata": {
        "id": "XrEEzXfFrcyv"
      }
    },
    {
      "cell_type": "code",
      "source": [
        "SVM(서포트 벡터 머신)"
      ],
      "metadata": {
        "id": "2z0kG-OSrfxi"
      },
      "execution_count": null,
      "outputs": []
    },
    {
      "cell_type": "markdown",
      "source": [
        "### 1-6\n",
        "여러가지 동일한 종류 또는 상이한 모형의 예측/분류 결과를 종합하는...\n",
        "\n"
      ],
      "metadata": {
        "id": "bWD-OBsvu2W8"
      }
    },
    {
      "cell_type": "code",
      "source": [
        "앙상블"
      ],
      "metadata": {
        "id": "aRKEdvcZ4CqP"
      },
      "execution_count": null,
      "outputs": []
    },
    {
      "cell_type": "markdown",
      "source": [
        "### 1-7\n",
        "군집화 연결법에 관한 것으로 중심 거리 계산, 가중 평균을 계산하여 새로운 중심을 ..."
      ],
      "metadata": {
        "id": "ZoGO5oimu6fc"
      }
    },
    {
      "cell_type": "code",
      "source": [
        "중심연결법"
      ],
      "metadata": {
        "id": "gm7rBmjY39l4"
      },
      "execution_count": null,
      "outputs": []
    },
    {
      "cell_type": "markdown",
      "source": [
        "### 1-8\n",
        "군집 분석 진행 시 데이터의 (    )를 고려하는 것이 중요하다"
      ],
      "metadata": {
        "id": "mB7JA4T5vA0g"
      }
    },
    {
      "cell_type": "code",
      "source": [
        "거리"
      ],
      "metadata": {
        "id": "42X5qbFevHDz"
      },
      "execution_count": null,
      "outputs": []
    },
    {
      "cell_type": "markdown",
      "source": [
        "### 1-9\n",
        "A 학교의 영어점수 60점과 B학교의 영어점수 60점은 같은 60점이지만 학교가 다르기 때문에 같은 점수라고 볼 수 없다. 이는 데이터의 (    )이 다르기 때문이다."
      ],
      "metadata": {
        "id": "cECrE_JOvKIY"
      }
    },
    {
      "cell_type": "code",
      "source": [
        "분포"
      ],
      "metadata": {
        "id": "eToHMLZnvTvP"
      },
      "execution_count": null,
      "outputs": []
    },
    {
      "cell_type": "markdown",
      "source": [
        "### 1-10\n",
        "그룹화를 의미하는 데이터 변환을 뭐라하는가?\n",
        "(예시 : 일별 매출건수를 그룹화하여 월별 매출건수, 분기별 매출건수로 변환)"
      ],
      "metadata": {
        "id": "DWbq-blsvZcp"
      }
    },
    {
      "cell_type": "code",
      "source": [
        "구간화 (binning)"
      ],
      "metadata": {
        "id": "yHpb60LWvdNW"
      },
      "execution_count": null,
      "outputs": []
    },
    {
      "cell_type": "markdown",
      "source": [
        "## 2.작업형1"
      ],
      "metadata": {
        "id": "U4yCvd7_4HQQ"
      }
    },
    {
      "cell_type": "code",
      "source": [
        "!git clone https://github.com/Soyoung-Yoon/bigdata"
      ],
      "metadata": {
        "id": "l_uAL496Wt1f",
        "colab": {
          "base_uri": "https://localhost:8080/"
        },
        "outputId": "fef7c5b5-000b-4e45-8668-2857d8f4f3b7"
      },
      "execution_count": null,
      "outputs": [
        {
          "output_type": "stream",
          "name": "stdout",
          "text": [
            "Cloning into 'bigdata'...\n",
            "remote: Enumerating objects: 41, done.\u001b[K\n",
            "remote: Counting objects: 100% (41/41), done.\u001b[K\n",
            "remote: Compressing objects: 100% (41/41), done.\u001b[K\n",
            "remote: Total 41 (delta 11), reused 0 (delta 0), pack-reused 0\u001b[K\n",
            "Unpacking objects: 100% (41/41), done.\n"
          ]
        }
      ]
    },
    {
      "cell_type": "markdown",
      "source": [
        "### 2-1.캘리포니어 집값 데이터\n",
        "결측치를 포함하는 모든 행을 제거한 후, 처음부터 순서대로 70%를 추출하여, 'housing_median_age' 컬럼의 사분위수 Q1의 값을 구하시오\n",
        "- 주의사항 정답 제출시, 정수형으로 제출해야 함"
      ],
      "metadata": {
        "id": "FbBF6ZmSp4Ge"
      }
    },
    {
      "cell_type": "code",
      "source": [
        "# 한 문자형 컬럼에 빈칸 ''인 데이터 1건이 있어서\n",
        "# 빈칸을 결측으로 처리시 빈칸 제거전 242건에서 빈칸 제거후 243건의 행이 제거됨\n",
        "# 하지만 제거하지 않고 1분위수를 구하더라도 정답은 같음"
      ],
      "metadata": {
        "id": "iWgEGO71cMSR"
      },
      "execution_count": null,
      "outputs": []
    },
    {
      "cell_type": "code",
      "execution_count": null,
      "metadata": {
        "id": "_x39Rr17pda0",
        "colab": {
          "base_uri": "https://localhost:8080/"
        },
        "outputId": "80b2cd28-429c-4b55-adb4-ef5c1c367e9d"
      },
      "outputs": [
        {
          "output_type": "stream",
          "name": "stdout",
          "text": [
            "19\n"
          ]
        }
      ],
      "source": [
        "import pandas as pd \n",
        " \n",
        "housing = pd.read_csv(\"./bigdata/housing03.csv\")\n",
        "housing.dropna(inplace= True)\n",
        "train = housing.iloc[:int(len(housing)*0.7)]\n",
        "result = train['housing_median_age'].quantile(0.25)\n",
        "print(int(result))  # 정답 : 19"
      ]
    },
    {
      "cell_type": "markdown",
      "source": [
        "### 2-2.연도별 나라별 유병률 데이터\n",
        "2000년 데이터에 대해 국가 전체 유병률 평균 값보다 큰 값을 가진 국가 개수는?\n",
        "(year 변수와 국가들의 결핵 유병률 값을 가진 데이터셋이 주어짐)\n",
        "\n",
        "    year  국가이름1  국가이름2 ...\n",
        "    1990  356        200\n",
        "    1991  400        150\n",
        "    1992  340        180\n",
        "..."
      ],
      "metadata": {
        "id": "dvODvI5fqIUl"
      }
    },
    {
      "cell_type": "code",
      "source": [
        "import pandas as pd\n",
        " \n",
        "data = pd.read_csv('./bigdata/worlddata.csv') \n",
        "data2000 = data[data['year'] == 2000].T\n",
        "#print(data2000)\n",
        "data2000 = data2000.iloc[1:, 0] # 첫번째 행이 'year' 이므로 제거해야 합니다!  \n",
        "#print(data2000)\n",
        "mean = data2000.mean()\n",
        "result = data2000[data2000 > mean].shape[0]\n",
        "print(result)  # 정답 : 76"
      ],
      "metadata": {
        "id": "DyKUpzd2qSx8",
        "colab": {
          "base_uri": "https://localhost:8080/"
        },
        "outputId": "d53f05b6-a09d-40f9-e32b-7fc5f681dfd7"
      },
      "execution_count": null,
      "outputs": [
        {
          "output_type": "stream",
          "name": "stdout",
          "text": [
            "76\n"
          ]
        }
      ]
    },
    {
      "cell_type": "markdown",
      "source": [
        "### 2-3.타이타닉 데이터\n",
        "- 각 열의 결측치 비율을 확인 한 후, 결측치의 비율이 가장 높은 변수명을 구하시오\n",
        "- 데이터 : https://www.kaggle.com/c/2019-1st-ml-month-with-kakr/overview"
      ],
      "metadata": {
        "id": "LP2f9AnEqT6V"
      }
    },
    {
      "cell_type": "code",
      "source": [
        "import pandas as pd\n",
        "titanic = pd.read_csv(\"bigdata/titanic_train03.csv\")\n",
        " \n",
        "# 결측치 비율 \n",
        "isna = titanic.isna().sum()\n",
        "result = isna.index[isna.argmax()]\n",
        "print(result)  # 정답 : Age"
      ],
      "metadata": {
        "id": "fSWeR7GcwMNm"
      },
      "execution_count": null,
      "outputs": []
    },
    {
      "cell_type": "markdown",
      "source": [
        "## 3.작업형2\n",
        "travel insurance 데이터 - 보험가입여부 예측\n",
        "- travel insurance 데이터를 활용해서 보험가입여부를 예측하라. \n",
        "- 데이터 : https://www.kaggle.com/agileteam/traval-insurance-exam \n",
        "80점 나왔을 때 30점?!\n",
        "- travel_insurance_test03.csv\n",
        "- travel_insurance_train03.csv"
      ],
      "metadata": {
        "id": "_MC0WQLWsd3F"
      }
    },
    {
      "cell_type": "code",
      "source": [
        "# [0] 사용 라이브러리 import\n",
        "import pandas as pd\n",
        "\n",
        "# 데이타가 많은경우 모두 출력 안되고 ... 으로 생략해서 출력됨.\n",
        "pd.set_option('max_rows',500)    #출력할 max row를 지정\n",
        "pd.set_option('max_columns',20)  #출력할 max columns를 지정\n",
        "#출력 format 지정 - 소수점아래 4자리까지\n",
        "pd.set_option('display.float_format', '{:.4f}'.format)\n",
        "\n",
        "train = pd.read_csv('bigdata/travel_insurance_train03.csv')\n",
        "test = pd.read_csv('bigdata/travel_insurance_test03.csv')\n",
        "Xtrain = train.drop(columns='TravelInsurance')\n",
        "Xtrain.to_csv('x_train.csv', index=False)\n",
        "train[['Unnamed: 0', 'TravelInsurance']].to_csv('y_train.csv', index=False)\n",
        "test.to_csv('x_test.csv', index=False)"
      ],
      "metadata": {
        "id": "E3WCDW1AaEpm"
      },
      "execution_count": null,
      "outputs": []
    },
    {
      "cell_type": "code",
      "source": [
        "# [1] 데이터 불러오기\n",
        "X =  pd.read_csv('x_train.csv')\n",
        "Y =  pd.read_csv('y_train.csv')\n",
        "X_submission =  pd.read_csv('x_test.csv')"
      ],
      "metadata": {
        "id": "aY9hecvAaYQA"
      },
      "execution_count": null,
      "outputs": []
    },
    {
      "cell_type": "code",
      "source": [
        "# [2] 'Unnamed: 0'를 'ID'로 변경하기  (필수 아님)\n",
        "X.columns = ['ID'] + list(X.columns[1:])\n",
        "Y.columns = ['ID'] + list(Y.columns[1:])\n",
        "X_submission.columns = ['ID'] + list(X_submission.columns[1:])"
      ],
      "metadata": {
        "id": "IUZmXC9RabC1"
      },
      "execution_count": null,
      "outputs": []
    },
    {
      "cell_type": "code",
      "source": [
        "# [3] X, X_submission 합쳐 dfX 만들고 info() 로 결측치, dtype 확인\n",
        "dfX = pd.concat([X, X_submission], ignore_index=True)\n",
        "dfX.info()"
      ],
      "metadata": {
        "colab": {
          "base_uri": "https://localhost:8080/"
        },
        "id": "sUUPU_fQgEYz",
        "outputId": "4bb1aa3a-6b59-4f2b-8b24-0db13e14d6f5"
      },
      "execution_count": null,
      "outputs": [
        {
          "output_type": "stream",
          "name": "stdout",
          "text": [
            "<class 'pandas.core.frame.DataFrame'>\n",
            "RangeIndex: 1987 entries, 0 to 1986\n",
            "Data columns (total 9 columns):\n",
            " #   Column               Non-Null Count  Dtype \n",
            "---  ------               --------------  ----- \n",
            " 0   ID                   1987 non-null   int64 \n",
            " 1   Age                  1987 non-null   int64 \n",
            " 2   Employment Type      1987 non-null   object\n",
            " 3   GraduateOrNot        1987 non-null   object\n",
            " 4   AnnualIncome         1987 non-null   int64 \n",
            " 5   FamilyMembers        1987 non-null   int64 \n",
            " 6   ChronicDiseases      1987 non-null   int64 \n",
            " 7   FrequentFlyer        1987 non-null   object\n",
            " 8   EverTravelledAbroad  1987 non-null   object\n",
            "dtypes: int64(5), object(4)\n",
            "memory usage: 139.8+ KB\n"
          ]
        }
      ]
    },
    {
      "cell_type": "code",
      "source": [
        "# 결측치 없음, dtype에서 object는 변경해야함"
      ],
      "metadata": {
        "id": "ZlM56XCQgTc1"
      },
      "execution_count": null,
      "outputs": []
    },
    {
      "cell_type": "code",
      "source": [
        "# [4] object 타입으로 된 것들의 가짓수 확인\n",
        "objcols = ['Employment Type', 'GraduateOrNot', 'FrequentFlyer', 'EverTravelledAbroad']\n",
        "dfX[objcols].nunique()"
      ],
      "metadata": {
        "colab": {
          "base_uri": "https://localhost:8080/"
        },
        "id": "Lxz23fySgWd0",
        "outputId": "d81722c9-fa8c-42ed-9417-15914088774f"
      },
      "execution_count": null,
      "outputs": [
        {
          "output_type": "execute_result",
          "data": {
            "text/plain": [
              "Employment Type        2\n",
              "GraduateOrNot          2\n",
              "FrequentFlyer          2\n",
              "EverTravelledAbroad    2\n",
              "dtype: int64"
            ]
          },
          "metadata": {},
          "execution_count": 38
        }
      ]
    },
    {
      "cell_type": "code",
      "source": [
        "# [5] object 타입으로 된 것들의 값과 분포 확인\n",
        "for t in objcols:\n",
        "    print(dfX[t].value_counts())"
      ],
      "metadata": {
        "colab": {
          "base_uri": "https://localhost:8080/"
        },
        "id": "_3IRpZ8EgpK4",
        "outputId": "d372911a-2477-4ae8-ef47-6f779651df6a"
      },
      "execution_count": null,
      "outputs": [
        {
          "output_type": "stream",
          "name": "stdout",
          "text": [
            "Private Sector/Self Employed    1417\n",
            "Government Sector                570\n",
            "Name: Employment Type, dtype: int64\n",
            "Yes    1692\n",
            "No      295\n",
            "Name: GraduateOrNot, dtype: int64\n",
            "No     1570\n",
            "Yes     417\n",
            "Name: FrequentFlyer, dtype: int64\n",
            "No     1607\n",
            "Yes     380\n",
            "Name: EverTravelledAbroad, dtype: int64\n"
          ]
        }
      ]
    },
    {
      "cell_type": "code",
      "source": [
        "# [6] Label Encoding 실시\n",
        "for t in objcols:\n",
        "    A = dfX[t].unique()\n",
        "    dfX[t] = dfX[t].replace(A, [0, 1])\n",
        "dfX.info()    "
      ],
      "metadata": {
        "colab": {
          "base_uri": "https://localhost:8080/"
        },
        "id": "B4EKkrrhg1yh",
        "outputId": "e4bf946c-0196-4737-d849-a4a5c84ce98b"
      },
      "execution_count": null,
      "outputs": [
        {
          "output_type": "stream",
          "name": "stdout",
          "text": [
            "<class 'pandas.core.frame.DataFrame'>\n",
            "RangeIndex: 1987 entries, 0 to 1986\n",
            "Data columns (total 9 columns):\n",
            " #   Column               Non-Null Count  Dtype\n",
            "---  ------               --------------  -----\n",
            " 0   ID                   1987 non-null   int64\n",
            " 1   Age                  1987 non-null   int64\n",
            " 2   Employment Type      1987 non-null   int64\n",
            " 3   GraduateOrNot        1987 non-null   int64\n",
            " 4   AnnualIncome         1987 non-null   int64\n",
            " 5   FamilyMembers        1987 non-null   int64\n",
            " 6   ChronicDiseases      1987 non-null   int64\n",
            " 7   FrequentFlyer        1987 non-null   int64\n",
            " 8   EverTravelledAbroad  1987 non-null   int64\n",
            "dtypes: int64(9)\n",
            "memory usage: 139.8 KB\n"
          ]
        }
      ]
    },
    {
      "cell_type": "code",
      "source": [
        "# [7] 사용할 도구 import\n",
        "from sklearn.preprocessing import MinMaxScaler\n",
        "from sklearn.model_selection import train_test_split\n",
        "from sklearn.linear_model import LogisticRegression\n",
        "from sklearn.neighbors import KNeighborsClassifier\n",
        "from sklearn.tree import DecisionTreeClassifier\n",
        "from sklearn.ensemble import RandomForestClassifier\n",
        "from xgboost import XGBClassifier"
      ],
      "metadata": {
        "id": "ne1niHc3httJ"
      },
      "execution_count": null,
      "outputs": []
    },
    {
      "cell_type": "code",
      "source": [
        "# [8] train score, test score, roc_auc_score 를 반환하는 함수 작성\n",
        "from sklearn.metrics import roc_auc_score\n",
        "def get_scores(model, xtrain, xtest, ytrain, ytest):\n",
        "    A = model.score(xtrain, ytrain)\n",
        "    B = model.score(xtest, ytest)\n",
        "    ypred1 = model.predict_proba(xtrain)[:, 1]\n",
        "    ypred2 = model.predict_proba(xtest)[:, 1]    \n",
        "    C = roc_auc_score(ytrain, ypred1)  \n",
        "    D = roc_auc_score(ytest, ypred2) \n",
        "    return '{:.4f} {:.4f} {:.4f} {:.4f}'.format(A, B, C, D)"
      ],
      "metadata": {
        "id": "zDTVR9QUiRHc"
      },
      "execution_count": null,
      "outputs": []
    },
    {
      "cell_type": "code",
      "source": [
        "# [9] 다양한 모델을 만들고 성능을 출력하는 함수 작성\n",
        "def make_models(xtrain, xtest, ytrain, ytest, rs=1234):\n",
        "    model1 = LogisticRegression().fit(xtrain, ytrain)\n",
        "    print('model1', get_scores(model1, xtrain, xtest, ytrain, ytest))\n",
        "    for k in range(1, 10):\n",
        "        model2 = KNeighborsClassifier(k).fit(xtrain, ytrain)\n",
        "        print('model2', k, get_scores(model2, xtrain, xtest, ytrain, ytest))\n",
        "\n",
        "    # overfitting\n",
        "    model3 = DecisionTreeClassifier(random_state=rs).fit(xtrain, ytrain)\n",
        "    print('model3', get_scores(model3, xtrain, xtest, ytrain, ytest))\n",
        "\n",
        "    # overfitting 해결\n",
        "    for d in range(3, 8):\n",
        "        model3 = DecisionTreeClassifier(max_depth=d, random_state=rs).fit(xtrain, ytrain)\n",
        "        print('model3', d, get_scores(model3, xtrain, xtest, ytrain, ytest))\n",
        "\n",
        "    # overfitting\n",
        "    model4 = RandomForestClassifier(random_state=rs).fit(xtrain, ytrain)\n",
        "    print('model4', get_scores(model4, xtrain, xtest, ytrain, ytest))\n",
        "\n",
        "    # overfitting 해결\n",
        "    for d in range(3, 8):\n",
        "        model4 = RandomForestClassifier(500, max_depth=d, random_state=rs).fit(xtrain, ytrain)\n",
        "        print('model4', d, get_scores(model4, xtrain, xtest, ytrain, ytest))\n",
        "\n",
        "    model5 = XGBClassifier(eval_metric='logloss', use_label_encoder=False).fit(xtrain, ytrain)\n",
        "    print('model5', get_scores(model5, xtrain, xtest, ytrain, ytest))"
      ],
      "metadata": {
        "id": "bZIRQAJDiSao"
      },
      "execution_count": null,
      "outputs": []
    },
    {
      "cell_type": "code",
      "source": [
        "# [10] X를 train 용도, submission 용도로 나누고, Y를 1차원으로 바꿈 (MinMaxScaler 적용)\n",
        "def get_data(dfX, Y):\n",
        "    X = dfX.drop(columns=['ID'])\n",
        "    X_use = X.iloc[:1490, :]\n",
        "    X_submission = X.iloc[1490:, :]\n",
        "    Y1 = Y['TravelInsurance']\n",
        "    scaler = MinMaxScaler()\n",
        "    X1_use = scaler.fit_transform(X_use)\n",
        "    X1_submission = scaler.transform(X_submission)\n",
        "    print(X1_use.shape, Y1.shape, X1_submission.shape)\n",
        "    return X1_use, X1_submission, Y1"
      ],
      "metadata": {
        "id": "tSZ5k7ZFiU6J"
      },
      "execution_count": null,
      "outputs": []
    },
    {
      "cell_type": "code",
      "source": [
        "# [11] 모델 찾기\n",
        "\n",
        "# X, Y 분리하기\n",
        "X1_use, X1_submission, Y1 = get_data(dfX, Y)\n",
        "rs = 1234\n",
        "# train, test  7:3 분할, stratify 적용, random_state=0 적용\n",
        "xtrain1, xtest1, ytrain1, ytest1 = train_test_split(X1_use, Y1, \n",
        "                                                test_size = 0.3,\n",
        "                                                stratify=Y1, random_state=rs)\n",
        "# 다양한 모델 만들어 보기\n",
        "# make_models 함수 호출 부분은 \n",
        "# 실제 시험에서 제출 전에 꼭 주석을 취해 주세요 ^_^  - 실행 시간 초과 금지\n",
        "make_models(xtrain1, xtest1, ytrain1, ytest1, rs)"
      ],
      "metadata": {
        "colab": {
          "base_uri": "https://localhost:8080/"
        },
        "id": "nvEF2ksGifmu",
        "outputId": "c5f7bfd8-a713-426d-8dcb-f560b098a9a2"
      },
      "execution_count": null,
      "outputs": [
        {
          "output_type": "stream",
          "name": "stdout",
          "text": [
            "(1490, 8) (1490,) (497, 8)\n",
            "model1 0.7699 0.7673 0.7821 0.7693\n",
            "model2 1 0.9453 0.7069 0.9394 0.6903\n",
            "model2 2 0.8658 0.7629 0.9461 0.7422\n",
            "model2 3 0.8610 0.7360 0.9310 0.7566\n",
            "model2 4 0.8351 0.7785 0.9133 0.7519\n",
            "model2 5 0.8341 0.7785 0.9068 0.7520\n",
            "model2 6 0.8284 0.7718 0.8958 0.7568\n",
            "model2 7 0.8226 0.7673 0.8909 0.7614\n",
            "model2 8 0.8169 0.7673 0.8839 0.7748\n",
            "model2 9 0.8073 0.7696 0.8774 0.7694\n",
            "model3 0.9501 0.7517 0.9941 0.7268\n",
            "model3 3 0.8360 0.8434 0.8173 0.8212\n",
            "model3 4 0.8370 0.8389 0.8326 0.8297\n",
            "model3 5 0.8418 0.8277 0.8481 0.8364\n",
            "model3 6 0.8485 0.8188 0.8651 0.7885\n",
            "model3 7 0.8610 0.8076 0.8809 0.7975\n",
            "model4 0.9501 0.7740 0.9931 0.7935\n",
            "model4 3 0.7987 0.7919 0.8264 0.8074\n",
            "model4 4 0.8236 0.8098 0.8419 0.8106\n",
            "model4 5 0.8399 0.8367 0.8665 0.8126\n",
            "model4 6 0.8428 0.8389 0.8993 0.8140\n",
            "model4 7 0.8504 0.8367 0.9263 0.8153\n",
            "model5 0.8408 0.8345 0.8913 0.8176\n"
          ]
        }
      ]
    },
    {
      "cell_type": "code",
      "source": [
        "# model3 5 0.8418 0.8277 0.8481 0.8364\n",
        "# [12] 최종적으로 사용할 모델을 선택하여 model로 다시 생성합니다.\n",
        "model = DecisionTreeClassifier(max_depth=5, random_state=rs).fit(xtrain1, ytrain1)\n",
        "print('final model', get_scores(model, xtrain1, xtest1, ytrain1, ytest1))"
      ],
      "metadata": {
        "colab": {
          "base_uri": "https://localhost:8080/"
        },
        "id": "CDN0_S3bj5rt",
        "outputId": "b461a987-6582-4929-cc78-b0b5bd59d1ee"
      },
      "execution_count": null,
      "outputs": [
        {
          "output_type": "stream",
          "name": "stdout",
          "text": [
            "final model 0.8418 0.8277 0.8481 0.8364\n"
          ]
        }
      ]
    },
    {
      "cell_type": "code",
      "source": [
        "# [13] test 데이터(X_submission, X1_submission)에 대한 확률 구하기, 파일로 저장하기\n",
        "pred = model.predict_proba(X1_submission)[:, 1]\n",
        "submission = pd.DataFrame({'ID': X_submission['ID'],\n",
        "                           'TravelInsurance': pred})\n",
        "submission.to_csv('submission.csv', index=False)"
      ],
      "metadata": {
        "id": "yAq2czg3mwZD"
      },
      "execution_count": null,
      "outputs": []
    }
  ]
}